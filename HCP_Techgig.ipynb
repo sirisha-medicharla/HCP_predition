{
  "nbformat": 4,
  "nbformat_minor": 0,
  "metadata": {
    "colab": {
      "provenance": []
    },
    "kernelspec": {
      "name": "python3",
      "display_name": "Python 3"
    },
    "language_info": {
      "name": "python"
    }
  },
  "cells": [
    {
      "cell_type": "code",
      "execution_count": 1,
      "metadata": {
        "id": "OxVYPKd3zQka"
      },
      "outputs": [],
      "source": [
        "import pandas as pd\n",
        "from sklearn.model_selection import train_test_split\n",
        "from sklearn.preprocessing import OneHotEncoder\n",
        "from sklearn.ensemble import RandomForestClassifier\n",
        "from sklearn.metrics import accuracy_score\n"
      ]
    },
    {
      "cell_type": "code",
      "source": [
        "# Load the training data\n",
        "train_data = pd.read_csv('/content/Doceree-HCP_Train.csv')"
      ],
      "metadata": {
        "id": "Tfa4Qyfi0WZc"
      },
      "execution_count": 3,
      "outputs": []
    },
    {
      "cell_type": "code",
      "source": [
        "test_data = pd.read_csv('/content/Doceree-HCP_Test.csv')"
      ],
      "metadata": {
        "id": "rZXAgOIE1Fpt"
      },
      "execution_count": 7,
      "outputs": []
    },
    {
      "cell_type": "code",
      "source": [
        "# Step 2: Data preprocessing\n",
        "# Handle missing values\n",
        "train_data.fillna(0, inplace=True)\n",
        "test_data.fillna(0, inplace=True)"
      ],
      "metadata": {
        "id": "Wp5pFLCe1LZQ"
      },
      "execution_count": 8,
      "outputs": []
    },
    {
      "cell_type": "code",
      "source": [
        "# Feature selection and engineering\n",
        "selected_features = ['DEVICETYPE', 'PLATFORM_ID', 'BIDREQUESTIP', 'USERCITY', 'USERZIPCODE',\n",
        "                     'USERAGENT', 'PLATFORMTYPE', 'CHANNELTYPE', 'URL', 'KEYWORDS']"
      ],
      "metadata": {
        "id": "myw-oynp1OkG"
      },
      "execution_count": 9,
      "outputs": []
    },
    {
      "cell_type": "code",
      "source": [
        "# One-hot encoding for categorical variables\n",
        "train_data = pd.get_dummies(train_data)\n",
        "test_data = pd.get_dummies(test_data)"
      ],
      "metadata": {
        "id": "6sz_5IM41qOw"
      },
      "execution_count": 12,
      "outputs": []
    },
    {
      "cell_type": "code",
      "source": [
        "# Align train and test data columns\n",
        "X_train, X_test = train_data.align(test_data, join='inner', axis=1)"
      ],
      "metadata": {
        "id": "wtVa6O7v1tjF"
      },
      "execution_count": 13,
      "outputs": []
    },
    {
      "cell_type": "code",
      "source": [
        "# Extract target variable\n",
        "y_train = train_data['IS_HCP']"
      ],
      "metadata": {
        "id": "E14lMLOE1vnH"
      },
      "execution_count": 14,
      "outputs": []
    },
    {
      "cell_type": "code",
      "source": [
        "# Step 3: Train the model\n",
        "model = RandomForestClassifier()\n",
        "model.fit(X_train, y_train)\n"
      ],
      "metadata": {
        "colab": {
          "base_uri": "https://localhost:8080/",
          "height": 74
        },
        "id": "5cFvKyFI1xfj",
        "outputId": "102650b3-1430-4cb2-9120-985001012e11"
      },
      "execution_count": 15,
      "outputs": [
        {
          "output_type": "execute_result",
          "data": {
            "text/plain": [
              "RandomForestClassifier()"
            ],
            "text/html": [
              "<style>#sk-container-id-1 {color: black;background-color: white;}#sk-container-id-1 pre{padding: 0;}#sk-container-id-1 div.sk-toggleable {background-color: white;}#sk-container-id-1 label.sk-toggleable__label {cursor: pointer;display: block;width: 100%;margin-bottom: 0;padding: 0.3em;box-sizing: border-box;text-align: center;}#sk-container-id-1 label.sk-toggleable__label-arrow:before {content: \"▸\";float: left;margin-right: 0.25em;color: #696969;}#sk-container-id-1 label.sk-toggleable__label-arrow:hover:before {color: black;}#sk-container-id-1 div.sk-estimator:hover label.sk-toggleable__label-arrow:before {color: black;}#sk-container-id-1 div.sk-toggleable__content {max-height: 0;max-width: 0;overflow: hidden;text-align: left;background-color: #f0f8ff;}#sk-container-id-1 div.sk-toggleable__content pre {margin: 0.2em;color: black;border-radius: 0.25em;background-color: #f0f8ff;}#sk-container-id-1 input.sk-toggleable__control:checked~div.sk-toggleable__content {max-height: 200px;max-width: 100%;overflow: auto;}#sk-container-id-1 input.sk-toggleable__control:checked~label.sk-toggleable__label-arrow:before {content: \"▾\";}#sk-container-id-1 div.sk-estimator input.sk-toggleable__control:checked~label.sk-toggleable__label {background-color: #d4ebff;}#sk-container-id-1 div.sk-label input.sk-toggleable__control:checked~label.sk-toggleable__label {background-color: #d4ebff;}#sk-container-id-1 input.sk-hidden--visually {border: 0;clip: rect(1px 1px 1px 1px);clip: rect(1px, 1px, 1px, 1px);height: 1px;margin: -1px;overflow: hidden;padding: 0;position: absolute;width: 1px;}#sk-container-id-1 div.sk-estimator {font-family: monospace;background-color: #f0f8ff;border: 1px dotted black;border-radius: 0.25em;box-sizing: border-box;margin-bottom: 0.5em;}#sk-container-id-1 div.sk-estimator:hover {background-color: #d4ebff;}#sk-container-id-1 div.sk-parallel-item::after {content: \"\";width: 100%;border-bottom: 1px solid gray;flex-grow: 1;}#sk-container-id-1 div.sk-label:hover label.sk-toggleable__label {background-color: #d4ebff;}#sk-container-id-1 div.sk-serial::before {content: \"\";position: absolute;border-left: 1px solid gray;box-sizing: border-box;top: 0;bottom: 0;left: 50%;z-index: 0;}#sk-container-id-1 div.sk-serial {display: flex;flex-direction: column;align-items: center;background-color: white;padding-right: 0.2em;padding-left: 0.2em;position: relative;}#sk-container-id-1 div.sk-item {position: relative;z-index: 1;}#sk-container-id-1 div.sk-parallel {display: flex;align-items: stretch;justify-content: center;background-color: white;position: relative;}#sk-container-id-1 div.sk-item::before, #sk-container-id-1 div.sk-parallel-item::before {content: \"\";position: absolute;border-left: 1px solid gray;box-sizing: border-box;top: 0;bottom: 0;left: 50%;z-index: -1;}#sk-container-id-1 div.sk-parallel-item {display: flex;flex-direction: column;z-index: 1;position: relative;background-color: white;}#sk-container-id-1 div.sk-parallel-item:first-child::after {align-self: flex-end;width: 50%;}#sk-container-id-1 div.sk-parallel-item:last-child::after {align-self: flex-start;width: 50%;}#sk-container-id-1 div.sk-parallel-item:only-child::after {width: 0;}#sk-container-id-1 div.sk-dashed-wrapped {border: 1px dashed gray;margin: 0 0.4em 0.5em 0.4em;box-sizing: border-box;padding-bottom: 0.4em;background-color: white;}#sk-container-id-1 div.sk-label label {font-family: monospace;font-weight: bold;display: inline-block;line-height: 1.2em;}#sk-container-id-1 div.sk-label-container {text-align: center;}#sk-container-id-1 div.sk-container {/* jupyter's `normalize.less` sets `[hidden] { display: none; }` but bootstrap.min.css set `[hidden] { display: none !important; }` so we also need the `!important` here to be able to override the default hidden behavior on the sphinx rendered scikit-learn.org. See: https://github.com/scikit-learn/scikit-learn/issues/21755 */display: inline-block !important;position: relative;}#sk-container-id-1 div.sk-text-repr-fallback {display: none;}</style><div id=\"sk-container-id-1\" class=\"sk-top-container\"><div class=\"sk-text-repr-fallback\"><pre>RandomForestClassifier()</pre><b>In a Jupyter environment, please rerun this cell to show the HTML representation or trust the notebook. <br />On GitHub, the HTML representation is unable to render, please try loading this page with nbviewer.org.</b></div><div class=\"sk-container\" hidden><div class=\"sk-item\"><div class=\"sk-estimator sk-toggleable\"><input class=\"sk-toggleable__control sk-hidden--visually\" id=\"sk-estimator-id-1\" type=\"checkbox\" checked><label for=\"sk-estimator-id-1\" class=\"sk-toggleable__label sk-toggleable__label-arrow\">RandomForestClassifier</label><div class=\"sk-toggleable__content\"><pre>RandomForestClassifier()</pre></div></div></div></div></div>"
            ]
          },
          "metadata": {},
          "execution_count": 15
        }
      ]
    },
    {
      "cell_type": "code",
      "source": [
        "# Step 4: Make predictions\n",
        "train_predictions = model.predict(X_train)\n",
        "train_accuracy = accuracy_score(y_train, train_predictions)\n",
        "print(\"Train Accuracy:\", train_accuracy)"
      ],
      "metadata": {
        "colab": {
          "base_uri": "https://localhost:8080/"
        },
        "id": "KwZbHpQu1RJf",
        "outputId": "2fb93220-9ebb-414f-8e77-455df0927970"
      },
      "execution_count": 16,
      "outputs": [
        {
          "output_type": "stream",
          "name": "stdout",
          "text": [
            "Train Accuracy: 1.0\n"
          ]
        }
      ]
    },
    {
      "cell_type": "code",
      "source": [
        "test_predictions = model.predict(X_test)\n"
      ],
      "metadata": {
        "id": "ZDLJm2iV1UJL"
      },
      "execution_count": 17,
      "outputs": []
    },
    {
      "cell_type": "code",
      "source": [
        "# Step 5: Generate output file\n",
        "output = pd.DataFrame({'ID': test_data['ID'], 'IS_HCP': test_predictions})"
      ],
      "metadata": {
        "id": "WFLX-CKJ0qDu"
      },
      "execution_count": 18,
      "outputs": []
    },
    {
      "cell_type": "code",
      "source": [
        "# Save output file\n",
        "output.to_csv('Output.csv', index=False)"
      ],
      "metadata": {
        "id": "BNMmtOpQ2l3l"
      },
      "execution_count": 19,
      "outputs": []
    },
    {
      "cell_type": "code",
      "source": [
        "# Function to predict HCP and specialization given user input\n",
        "def predict_hcp_specialization(user_id, ad_server_log):\n",
        "    # Preprocess user input\n",
        "    user_input = pd.DataFrame(ad_server_log, columns=X_train.columns)\n",
        "    user_input.fillna(0, inplace=True)\n",
        "    user_input = pd.get_dummies(user_input)\n",
        "    user_input = user_input.reindex(columns=X_train.columns, fill_value=0)\n",
        "\n",
        "    # Make prediction\n",
        "    prediction = model.predict(user_input)\n",
        "    specialization = None\n",
        "\n",
        "    # Check if HCP is identified\n",
        "    if prediction[0] == 1:\n",
        "        # Extract specialization (taxonomy) if available\n",
        "        specialization = test_data.loc[test_data['USERPLATFORMUID'] == user_id, 'TAXONOMY'].values[0]\n",
        "\n",
        "    return prediction[0], specialization\n"
      ],
      "metadata": {
        "id": "8pLq3Eyy97Qp"
      },
      "execution_count": 45,
      "outputs": []
    },
    {
      "cell_type": "code",
      "source": [
        "# Example user input\n",
        "user_id = 'user123'\n",
        "ad_server_log = {\n",
        "    'DEVICETYPE': ['Desktop'],\n",
        "    'PLATFORM_ID': ['12345'],\n",
        "    'BIDREQUESTIP': ['192.168.0.1'],\n",
        "    'USERCITY': ['New York'],\n",
        "    'USERZIPCODE': ['12345'],\n",
        "    'USERAGENT': ['Mozilla/5.0 (Windows NT 10.0; Win64; x64) AppleWebKit/537.36 (KHTML, like Gecko) Chrome/91.0.4472.124 Safari/537.36'],\n",
        "    'PLATFORMTYPE': ['EHR'],\n",
        "    'CHANNELTYPE': ['website'],\n",
        "    'URL': ['https://example.com'],\n",
        "    'KEYWORDS': ['healthcare']\n",
        "}"
      ],
      "metadata": {
        "id": "TTTGOXR897pK"
      },
      "execution_count": 52,
      "outputs": []
    },
    {
      "cell_type": "code",
      "source": [
        "# Predict HCP and specialization for user input\n",
        "hcp_prediction, taxonomy = predict_hcp_specialization(user_id, ad_server_log)\n",
        "print(\"HCP Prediction:\", hcp_prediction)\n",
        "print(\"Taxonomy:\", taxonomy)"
      ],
      "metadata": {
        "colab": {
          "base_uri": "https://localhost:8080/"
        },
        "id": "Z9RntTcqCOi7",
        "outputId": "255c0029-3d0c-496e-dfd3-7bb4c05db8ab"
      },
      "execution_count": 53,
      "outputs": [
        {
          "output_type": "stream",
          "name": "stdout",
          "text": [
            "HCP Prediction: 0.0\n",
            "Taxonomy: None\n"
          ]
        }
      ]
    },
    {
      "cell_type": "code",
      "source": [
        "\n",
        "# Example user input\n",
        "user_id = '115536'\n",
        "ad_server_log = {\n",
        "    'DEVICETYPE': ['Mobile'],\n",
        "    'PLATFORM_ID': ['2'],\n",
        "    'BIDREQUESTIP': ['69.230.149.79'],\n",
        "    'USERCITY': ['Lilburn'],\n",
        "    'USERZIPCODE': ['54321'],\n",
        "    'USERAGENT': ['Mozilla/5.0 (iPhone; CPU iPhone OS 15_4 like Mac OS X) AppleWebKit/605.1.15 (KHTML, like Gecko) CriOS/101.0.4951.58 Mobile/15E148 Safari/604.1'],\n",
        "    'PLATFORMTYPE': ['Online Medical Journal'],\n",
        "    'CHANNELTYPE': ['Website'],\n",
        "    'URL': ['https://www.renalandurologynews.com/slideshow/clinical-quiz/a-peritoneal-dialysis-patient-with-peri-catheter-pain/'],\n",
        "    'KEYWORDS': ['General|Diagnosis|Nephritis|Oncology|Intravenous|Cardiovascular|Clinical|Small|Cardiology|Psychiatry|Medicine|Erythema|Abscess|False|Reproductive|Controlled|Pathology|Ophthalmology|Transplantation|Premature|Chronic|Dermatology|Gastroenterology|Neurology|Health|Rheumatology|Urology|Hematology|Surgical|Anemia']\n",
        "}"
      ],
      "metadata": {
        "id": "Uia59FsPCe8B"
      },
      "execution_count": 50,
      "outputs": []
    },
    {
      "cell_type": "code",
      "source": [
        "# Predict HCP and specialization for user input\n",
        "hcp_prediction, taxonomy = predict_hcp_specialization(user_id, ad_server_log)\n",
        "print(\"HCP Prediction:\", hcp_prediction)\n",
        "print(\"Taxonomy:\", taxonomy)"
      ],
      "metadata": {
        "colab": {
          "base_uri": "https://localhost:8080/"
        },
        "id": "6RWK0D3D-DO2",
        "outputId": "026ef80c-99c7-47ba-a232-a55cee8e332a"
      },
      "execution_count": 51,
      "outputs": [
        {
          "output_type": "stream",
          "name": "stdout",
          "text": [
            "HCP Prediction: 0.0\n",
            "Taxonomy: None\n"
          ]
        }
      ]
    }
  ]
}